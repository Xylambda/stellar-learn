{
 "cells": [
  {
   "cell_type": "code",
   "execution_count": 1,
   "id": "60f01633",
   "metadata": {},
   "outputs": [],
   "source": [
    "%load_ext autoreload\n",
    "%autoreload 2"
   ]
  },
  {
   "cell_type": "code",
   "execution_count": 2,
   "id": "c9b91d56",
   "metadata": {
    "scrolled": true
   },
   "outputs": [
    {
     "name": "stderr",
     "output_type": "stream",
     "text": [
      "[MLENS] backend: threading\n"
     ]
    }
   ],
   "source": [
    "import pandas as pd\n",
    "from stlearn.data.datasets import KeplerQ9"
   ]
  },
  {
   "cell_type": "code",
   "execution_count": 3,
   "id": "e78f213a",
   "metadata": {},
   "outputs": [],
   "source": [
    "keplerq9 = KeplerQ9()"
   ]
  },
  {
   "cell_type": "code",
   "execution_count": 4,
   "id": "6e7b09f6",
   "metadata": {},
   "outputs": [],
   "source": [
    "# keplerq9.download()"
   ]
  },
  {
   "cell_type": "code",
   "execution_count": 5,
   "id": "0b5a594e",
   "metadata": {},
   "outputs": [],
   "source": [
    "collection = keplerq9.from_folder(folder=\"temp\")"
   ]
  },
  {
   "cell_type": "code",
   "execution_count": 6,
   "id": "bb5d6c8f",
   "metadata": {},
   "outputs": [
    {
     "data": {
      "text/plain": [
       "dict_keys(['GDOR_SPB', 'ECLIPSE', 'RRLYR_CEPHEID', 'CONSTANT', 'SOLARLIKE', 'CONTACT_ROT', 'APERIODIC', 'DSCT_BCEP'])"
      ]
     },
     "execution_count": 6,
     "metadata": {},
     "output_type": "execute_result"
    }
   ],
   "source": [
    "collection.keys()"
   ]
  },
  {
   "cell_type": "code",
   "execution_count": 7,
   "id": "faea252c",
   "metadata": {},
   "outputs": [],
   "source": [
    "keplerq9.get_ids(\"temp\")"
   ]
  },
  {
   "cell_type": "code",
   "execution_count": 8,
   "id": "94d0d11d",
   "metadata": {},
   "outputs": [],
   "source": [
    "lightk = keplerq9.as_lightkurve(collection)"
   ]
  },
  {
   "cell_type": "code",
   "execution_count": 9,
   "id": "184cf539",
   "metadata": {},
   "outputs": [],
   "source": [
    "features_df = []\n",
    "for key in collection:\n",
    "    for ts in collection[key]:\n",
    "        df = pd.DataFrame(ts, columns=[\"time\", \"flux\", \"flux err\"])\n",
    "        df[\"id\"] = key\n",
    "        features_df.append(df)"
   ]
  },
  {
   "cell_type": "code",
   "execution_count": 10,
   "id": "acc21040",
   "metadata": {},
   "outputs": [],
   "source": [
    "long_format = pd.concat(features_df).dropna()"
   ]
  },
  {
   "cell_type": "code",
   "execution_count": 11,
   "id": "6a2ecbbc",
   "metadata": {},
   "outputs": [
    {
     "data": {
      "text/html": [
       "<div>\n",
       "<style scoped>\n",
       "    .dataframe tbody tr th:only-of-type {\n",
       "        vertical-align: middle;\n",
       "    }\n",
       "\n",
       "    .dataframe tbody tr th {\n",
       "        vertical-align: top;\n",
       "    }\n",
       "\n",
       "    .dataframe thead th {\n",
       "        text-align: right;\n",
       "    }\n",
       "</style>\n",
       "<table border=\"1\" class=\"dataframe\">\n",
       "  <thead>\n",
       "    <tr style=\"text-align: right;\">\n",
       "      <th></th>\n",
       "      <th>time</th>\n",
       "      <th>flux</th>\n",
       "      <th>flux err</th>\n",
       "      <th>id</th>\n",
       "    </tr>\n",
       "  </thead>\n",
       "  <tbody>\n",
       "    <tr>\n",
       "      <th>0</th>\n",
       "      <td>0.000000</td>\n",
       "      <td>1461.180130</td>\n",
       "      <td>56.701803</td>\n",
       "      <td>GDOR_SPB</td>\n",
       "    </tr>\n",
       "    <tr>\n",
       "      <th>1</th>\n",
       "      <td>0.020434</td>\n",
       "      <td>1417.830374</td>\n",
       "      <td>56.698845</td>\n",
       "      <td>GDOR_SPB</td>\n",
       "    </tr>\n",
       "    <tr>\n",
       "      <th>2</th>\n",
       "      <td>0.040868</td>\n",
       "      <td>1483.669853</td>\n",
       "      <td>56.715377</td>\n",
       "      <td>GDOR_SPB</td>\n",
       "    </tr>\n",
       "    <tr>\n",
       "      <th>3</th>\n",
       "      <td>0.061302</td>\n",
       "      <td>1407.509003</td>\n",
       "      <td>56.723480</td>\n",
       "      <td>GDOR_SPB</td>\n",
       "    </tr>\n",
       "    <tr>\n",
       "      <th>4</th>\n",
       "      <td>0.081737</td>\n",
       "      <td>1265.182736</td>\n",
       "      <td>56.707764</td>\n",
       "      <td>GDOR_SPB</td>\n",
       "    </tr>\n",
       "  </tbody>\n",
       "</table>\n",
       "</div>"
      ],
      "text/plain": [
       "       time         flux   flux err        id\n",
       "0  0.000000  1461.180130  56.701803  GDOR_SPB\n",
       "1  0.020434  1417.830374  56.698845  GDOR_SPB\n",
       "2  0.040868  1483.669853  56.715377  GDOR_SPB\n",
       "3  0.061302  1407.509003  56.723480  GDOR_SPB\n",
       "4  0.081737  1265.182736  56.707764  GDOR_SPB"
      ]
     },
     "execution_count": 11,
     "metadata": {},
     "output_type": "execute_result"
    }
   ],
   "source": [
    "long_format.head()"
   ]
  },
  {
   "cell_type": "code",
   "execution_count": 12,
   "id": "1672e32d",
   "metadata": {},
   "outputs": [
    {
     "data": {
      "text/plain": [
       "array(['GDOR_SPB', 'ECLIPSE', 'RRLYR_CEPHEID', 'CONSTANT', 'SOLARLIKE',\n",
       "       'CONTACT_ROT', 'APERIODIC', 'DSCT_BCEP'], dtype=object)"
      ]
     },
     "execution_count": 12,
     "metadata": {},
     "output_type": "execute_result"
    }
   ],
   "source": [
    "long_format['id'].unique()"
   ]
  },
  {
   "cell_type": "code",
   "execution_count": 13,
   "id": "48e1fa82",
   "metadata": {},
   "outputs": [],
   "source": [
    "#feat = keplerq9.as_tsfresh(long_format)"
   ]
  },
  {
   "cell_type": "code",
   "execution_count": 14,
   "id": "ea0a7b0e",
   "metadata": {},
   "outputs": [],
   "source": [
    "from stlearn.models import SuperLearner\n",
    "from sklearn.metrics import cohen_kappa_score"
   ]
  },
  {
   "cell_type": "code",
   "execution_count": 17,
   "id": "ad14a0dd",
   "metadata": {},
   "outputs": [],
   "source": [
    "superl = SuperLearner(n_folds=2, scorer=cohen_kappa_score)"
   ]
  },
  {
   "cell_type": "code",
   "execution_count": 18,
   "id": "d0ada4dd",
   "metadata": {},
   "outputs": [
    {
     "data": {
      "text/plain": [
       "<stlearn.models._models.SuperLearner at 0x7ff6a3149050>"
      ]
     },
     "execution_count": 18,
     "metadata": {},
     "output_type": "execute_result"
    }
   ],
   "source": [
    "#superl.fit(X, y)"
   ]
  },
  {
   "cell_type": "markdown",
   "id": "6aafadcf",
   "metadata": {},
   "source": [
    "---"
   ]
  }
 ],
 "metadata": {
  "kernelspec": {
   "display_name": "Python 3 (ipykernel)",
   "language": "python",
   "name": "python3"
  },
  "language_info": {
   "codemirror_mode": {
    "name": "ipython",
    "version": 3
   },
   "file_extension": ".py",
   "mimetype": "text/x-python",
   "name": "python",
   "nbconvert_exporter": "python",
   "pygments_lexer": "ipython3",
   "version": "3.7.11"
  }
 },
 "nbformat": 4,
 "nbformat_minor": 5
}
